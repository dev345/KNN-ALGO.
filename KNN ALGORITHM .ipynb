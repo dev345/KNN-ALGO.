{
 "cells": [
  {
   "cell_type": "code",
   "execution_count": 1,
   "metadata": {},
   "outputs": [],
   "source": [
    "import pandas as pd\n",
    "import numpy as np\n",
    "import matplotlib.pyplot as plt\n",
    "import seaborn as sb"
   ]
  },
  {
   "cell_type": "markdown",
   "metadata": {},
   "source": [
    "# Nameing the columns with meaningful words "
   ]
  },
  {
   "cell_type": "code",
   "execution_count": 2,
   "metadata": {},
   "outputs": [],
   "source": [
    "x=['Sample code number', 'Clump Thickness', 'Uniformity of Cell Size', 'Uniformity of Cell Shape', 'Marginal Adhesion', 'Single Epithelial Cell Size', 'Bare Nuclei', 'Bland Chromatin', 'Normal Nucleoli', 'Mitoses', 'Class']\n",
    "dt=pd.read_csv('https://archive.ics.uci.edu/ml/machine-learning-databases/breast-cancer-wisconsin/breast-cancer-wisconsin.data',names=x)"
   ]
  },
  {
   "cell_type": "code",
   "execution_count": 3,
   "metadata": {
    "collapsed": true
   },
   "outputs": [
    {
     "data": {
      "text/html": [
       "<div>\n",
       "<style scoped>\n",
       "    .dataframe tbody tr th:only-of-type {\n",
       "        vertical-align: middle;\n",
       "    }\n",
       "\n",
       "    .dataframe tbody tr th {\n",
       "        vertical-align: top;\n",
       "    }\n",
       "\n",
       "    .dataframe thead th {\n",
       "        text-align: right;\n",
       "    }\n",
       "</style>\n",
       "<table border=\"1\" class=\"dataframe\">\n",
       "  <thead>\n",
       "    <tr style=\"text-align: right;\">\n",
       "      <th></th>\n",
       "      <th>Sample code number</th>\n",
       "      <th>Clump Thickness</th>\n",
       "      <th>Uniformity of Cell Size</th>\n",
       "      <th>Uniformity of Cell Shape</th>\n",
       "      <th>Marginal Adhesion</th>\n",
       "      <th>Single Epithelial Cell Size</th>\n",
       "      <th>Bare Nuclei</th>\n",
       "      <th>Bland Chromatin</th>\n",
       "      <th>Normal Nucleoli</th>\n",
       "      <th>Mitoses</th>\n",
       "      <th>Class</th>\n",
       "    </tr>\n",
       "  </thead>\n",
       "  <tbody>\n",
       "    <tr>\n",
       "      <th>0</th>\n",
       "      <td>1000025</td>\n",
       "      <td>5</td>\n",
       "      <td>1</td>\n",
       "      <td>1</td>\n",
       "      <td>1</td>\n",
       "      <td>2</td>\n",
       "      <td>1</td>\n",
       "      <td>3</td>\n",
       "      <td>1</td>\n",
       "      <td>1</td>\n",
       "      <td>2</td>\n",
       "    </tr>\n",
       "    <tr>\n",
       "      <th>1</th>\n",
       "      <td>1002945</td>\n",
       "      <td>5</td>\n",
       "      <td>4</td>\n",
       "      <td>4</td>\n",
       "      <td>5</td>\n",
       "      <td>7</td>\n",
       "      <td>10</td>\n",
       "      <td>3</td>\n",
       "      <td>2</td>\n",
       "      <td>1</td>\n",
       "      <td>2</td>\n",
       "    </tr>\n",
       "    <tr>\n",
       "      <th>2</th>\n",
       "      <td>1015425</td>\n",
       "      <td>3</td>\n",
       "      <td>1</td>\n",
       "      <td>1</td>\n",
       "      <td>1</td>\n",
       "      <td>2</td>\n",
       "      <td>2</td>\n",
       "      <td>3</td>\n",
       "      <td>1</td>\n",
       "      <td>1</td>\n",
       "      <td>2</td>\n",
       "    </tr>\n",
       "    <tr>\n",
       "      <th>3</th>\n",
       "      <td>1016277</td>\n",
       "      <td>6</td>\n",
       "      <td>8</td>\n",
       "      <td>8</td>\n",
       "      <td>1</td>\n",
       "      <td>3</td>\n",
       "      <td>4</td>\n",
       "      <td>3</td>\n",
       "      <td>7</td>\n",
       "      <td>1</td>\n",
       "      <td>2</td>\n",
       "    </tr>\n",
       "    <tr>\n",
       "      <th>4</th>\n",
       "      <td>1017023</td>\n",
       "      <td>4</td>\n",
       "      <td>1</td>\n",
       "      <td>1</td>\n",
       "      <td>3</td>\n",
       "      <td>2</td>\n",
       "      <td>1</td>\n",
       "      <td>3</td>\n",
       "      <td>1</td>\n",
       "      <td>1</td>\n",
       "      <td>2</td>\n",
       "    </tr>\n",
       "  </tbody>\n",
       "</table>\n",
       "</div>"
      ],
      "text/plain": [
       "   Sample code number  Clump Thickness  Uniformity of Cell Size  \\\n",
       "0             1000025                5                        1   \n",
       "1             1002945                5                        4   \n",
       "2             1015425                3                        1   \n",
       "3             1016277                6                        8   \n",
       "4             1017023                4                        1   \n",
       "\n",
       "   Uniformity of Cell Shape  Marginal Adhesion  Single Epithelial Cell Size  \\\n",
       "0                         1                  1                            2   \n",
       "1                         4                  5                            7   \n",
       "2                         1                  1                            2   \n",
       "3                         8                  1                            3   \n",
       "4                         1                  3                            2   \n",
       "\n",
       "  Bare Nuclei  Bland Chromatin  Normal Nucleoli  Mitoses  Class  \n",
       "0           1                3                1        1      2  \n",
       "1          10                3                2        1      2  \n",
       "2           2                3                1        1      2  \n",
       "3           4                3                7        1      2  \n",
       "4           1                3                1        1      2  "
      ]
     },
     "execution_count": 3,
     "metadata": {},
     "output_type": "execute_result"
    }
   ],
   "source": [
    "dt.head()"
   ]
  },
  {
   "cell_type": "markdown",
   "metadata": {},
   "source": [
    "# we need to replace ?/ missing values with nan value in the data set\n"
   ]
  },
  {
   "cell_type": "code",
   "execution_count": 4,
   "metadata": {
    "collapsed": true
   },
   "outputs": [
    {
     "data": {
      "text/plain": [
       "Sample code number              int64\n",
       "Clump Thickness                 int64\n",
       "Uniformity of Cell Size         int64\n",
       "Uniformity of Cell Shape        int64\n",
       "Marginal Adhesion               int64\n",
       "Single Epithelial Cell Size     int64\n",
       "Bare Nuclei                    object\n",
       "Bland Chromatin                 int64\n",
       "Normal Nucleoli                 int64\n",
       "Mitoses                         int64\n",
       "Class                           int64\n",
       "dtype: object"
      ]
     },
     "execution_count": 4,
     "metadata": {},
     "output_type": "execute_result"
    }
   ],
   "source": [
    "dt.dtypes"
   ]
  },
  {
   "cell_type": "code",
   "execution_count": 5,
   "metadata": {},
   "outputs": [],
   "source": [
    "dt.replace({'Bare Nuclei':{'?':np.nan}},inplace=True)"
   ]
  },
  {
   "cell_type": "code",
   "execution_count": 6,
   "metadata": {
    "collapsed": true
   },
   "outputs": [
    {
     "data": {
      "text/plain": [
       "Sample code number              0\n",
       "Clump Thickness                 0\n",
       "Uniformity of Cell Size         0\n",
       "Uniformity of Cell Shape        0\n",
       "Marginal Adhesion               0\n",
       "Single Epithelial Cell Size     0\n",
       "Bare Nuclei                    16\n",
       "Bland Chromatin                 0\n",
       "Normal Nucleoli                 0\n",
       "Mitoses                         0\n",
       "Class                           0\n",
       "dtype: int64"
      ]
     },
     "execution_count": 6,
     "metadata": {},
     "output_type": "execute_result"
    }
   ],
   "source": [
    "dt.isnull().sum()"
   ]
  },
  {
   "cell_type": "code",
   "execution_count": 7,
   "metadata": {},
   "outputs": [],
   "source": [
    "dt['Bare Nuclei']=pd.to_numeric(dt['Bare Nuclei'])"
   ]
  },
  {
   "cell_type": "markdown",
   "metadata": {},
   "source": [
    "# Filling null values  "
   ]
  },
  {
   "cell_type": "code",
   "execution_count": 8,
   "metadata": {},
   "outputs": [],
   "source": [
    "dt['Bare Nuclei']=dt.groupby('Class')['Bare Nuclei'].apply(lambda x:x.fillna(x.mean()))"
   ]
  },
  {
   "cell_type": "code",
   "execution_count": 9,
   "metadata": {
    "collapsed": true
   },
   "outputs": [
    {
     "data": {
      "text/plain": [
       "Sample code number             0\n",
       "Clump Thickness                0\n",
       "Uniformity of Cell Size        0\n",
       "Uniformity of Cell Shape       0\n",
       "Marginal Adhesion              0\n",
       "Single Epithelial Cell Size    0\n",
       "Bare Nuclei                    0\n",
       "Bland Chromatin                0\n",
       "Normal Nucleoli                0\n",
       "Mitoses                        0\n",
       "Class                          0\n",
       "dtype: int64"
      ]
     },
     "execution_count": 9,
     "metadata": {},
     "output_type": "execute_result"
    }
   ],
   "source": [
    "dt.isnull().sum()"
   ]
  },
  {
   "cell_type": "markdown",
   "metadata": {},
   "source": [
    "# Storeing the data into offline mode\n"
   ]
  },
  {
   "cell_type": "code",
   "execution_count": 10,
   "metadata": {},
   "outputs": [],
   "source": [
    "dt.to_csv('breastcancer.csv')"
   ]
  },
  {
   "cell_type": "code",
   "execution_count": 11,
   "metadata": {},
   "outputs": [],
   "source": [
    "dt1=pd.read_csv('breastcancer.csv')"
   ]
  },
  {
   "cell_type": "code",
   "execution_count": 12,
   "metadata": {
    "collapsed": true
   },
   "outputs": [
    {
     "data": {
      "text/html": [
       "<div>\n",
       "<style scoped>\n",
       "    .dataframe tbody tr th:only-of-type {\n",
       "        vertical-align: middle;\n",
       "    }\n",
       "\n",
       "    .dataframe tbody tr th {\n",
       "        vertical-align: top;\n",
       "    }\n",
       "\n",
       "    .dataframe thead th {\n",
       "        text-align: right;\n",
       "    }\n",
       "</style>\n",
       "<table border=\"1\" class=\"dataframe\">\n",
       "  <thead>\n",
       "    <tr style=\"text-align: right;\">\n",
       "      <th></th>\n",
       "      <th>Unnamed: 0</th>\n",
       "      <th>Sample code number</th>\n",
       "      <th>Clump Thickness</th>\n",
       "      <th>Uniformity of Cell Size</th>\n",
       "      <th>Uniformity of Cell Shape</th>\n",
       "      <th>Marginal Adhesion</th>\n",
       "      <th>Single Epithelial Cell Size</th>\n",
       "      <th>Bare Nuclei</th>\n",
       "      <th>Bland Chromatin</th>\n",
       "      <th>Normal Nucleoli</th>\n",
       "      <th>Mitoses</th>\n",
       "      <th>Class</th>\n",
       "    </tr>\n",
       "  </thead>\n",
       "  <tbody>\n",
       "    <tr>\n",
       "      <th>0</th>\n",
       "      <td>0</td>\n",
       "      <td>1000025</td>\n",
       "      <td>5</td>\n",
       "      <td>1</td>\n",
       "      <td>1</td>\n",
       "      <td>1</td>\n",
       "      <td>2</td>\n",
       "      <td>1.0</td>\n",
       "      <td>3</td>\n",
       "      <td>1</td>\n",
       "      <td>1</td>\n",
       "      <td>2</td>\n",
       "    </tr>\n",
       "    <tr>\n",
       "      <th>1</th>\n",
       "      <td>1</td>\n",
       "      <td>1002945</td>\n",
       "      <td>5</td>\n",
       "      <td>4</td>\n",
       "      <td>4</td>\n",
       "      <td>5</td>\n",
       "      <td>7</td>\n",
       "      <td>10.0</td>\n",
       "      <td>3</td>\n",
       "      <td>2</td>\n",
       "      <td>1</td>\n",
       "      <td>2</td>\n",
       "    </tr>\n",
       "    <tr>\n",
       "      <th>2</th>\n",
       "      <td>2</td>\n",
       "      <td>1015425</td>\n",
       "      <td>3</td>\n",
       "      <td>1</td>\n",
       "      <td>1</td>\n",
       "      <td>1</td>\n",
       "      <td>2</td>\n",
       "      <td>2.0</td>\n",
       "      <td>3</td>\n",
       "      <td>1</td>\n",
       "      <td>1</td>\n",
       "      <td>2</td>\n",
       "    </tr>\n",
       "    <tr>\n",
       "      <th>3</th>\n",
       "      <td>3</td>\n",
       "      <td>1016277</td>\n",
       "      <td>6</td>\n",
       "      <td>8</td>\n",
       "      <td>8</td>\n",
       "      <td>1</td>\n",
       "      <td>3</td>\n",
       "      <td>4.0</td>\n",
       "      <td>3</td>\n",
       "      <td>7</td>\n",
       "      <td>1</td>\n",
       "      <td>2</td>\n",
       "    </tr>\n",
       "    <tr>\n",
       "      <th>4</th>\n",
       "      <td>4</td>\n",
       "      <td>1017023</td>\n",
       "      <td>4</td>\n",
       "      <td>1</td>\n",
       "      <td>1</td>\n",
       "      <td>3</td>\n",
       "      <td>2</td>\n",
       "      <td>1.0</td>\n",
       "      <td>3</td>\n",
       "      <td>1</td>\n",
       "      <td>1</td>\n",
       "      <td>2</td>\n",
       "    </tr>\n",
       "  </tbody>\n",
       "</table>\n",
       "</div>"
      ],
      "text/plain": [
       "   Unnamed: 0  Sample code number  Clump Thickness  Uniformity of Cell Size  \\\n",
       "0           0             1000025                5                        1   \n",
       "1           1             1002945                5                        4   \n",
       "2           2             1015425                3                        1   \n",
       "3           3             1016277                6                        8   \n",
       "4           4             1017023                4                        1   \n",
       "\n",
       "   Uniformity of Cell Shape  Marginal Adhesion  Single Epithelial Cell Size  \\\n",
       "0                         1                  1                            2   \n",
       "1                         4                  5                            7   \n",
       "2                         1                  1                            2   \n",
       "3                         8                  1                            3   \n",
       "4                         1                  3                            2   \n",
       "\n",
       "   Bare Nuclei  Bland Chromatin  Normal Nucleoli  Mitoses  Class  \n",
       "0          1.0                3                1        1      2  \n",
       "1         10.0                3                2        1      2  \n",
       "2          2.0                3                1        1      2  \n",
       "3          4.0                3                7        1      2  \n",
       "4          1.0                3                1        1      2  "
      ]
     },
     "execution_count": 12,
     "metadata": {},
     "output_type": "execute_result"
    }
   ],
   "source": [
    "dt1.head()"
   ]
  },
  {
   "cell_type": "code",
   "execution_count": 13,
   "metadata": {},
   "outputs": [],
   "source": [
    "dt1.drop(['Unnamed: 0'],axis=1,inplace=True)"
   ]
  },
  {
   "cell_type": "code",
   "execution_count": 14,
   "metadata": {
    "collapsed": true
   },
   "outputs": [
    {
     "data": {
      "text/html": [
       "<div>\n",
       "<style scoped>\n",
       "    .dataframe tbody tr th:only-of-type {\n",
       "        vertical-align: middle;\n",
       "    }\n",
       "\n",
       "    .dataframe tbody tr th {\n",
       "        vertical-align: top;\n",
       "    }\n",
       "\n",
       "    .dataframe thead th {\n",
       "        text-align: right;\n",
       "    }\n",
       "</style>\n",
       "<table border=\"1\" class=\"dataframe\">\n",
       "  <thead>\n",
       "    <tr style=\"text-align: right;\">\n",
       "      <th></th>\n",
       "      <th>Sample code number</th>\n",
       "      <th>Clump Thickness</th>\n",
       "      <th>Uniformity of Cell Size</th>\n",
       "      <th>Uniformity of Cell Shape</th>\n",
       "      <th>Marginal Adhesion</th>\n",
       "      <th>Single Epithelial Cell Size</th>\n",
       "      <th>Bare Nuclei</th>\n",
       "      <th>Bland Chromatin</th>\n",
       "      <th>Normal Nucleoli</th>\n",
       "      <th>Mitoses</th>\n",
       "      <th>Class</th>\n",
       "    </tr>\n",
       "  </thead>\n",
       "  <tbody>\n",
       "    <tr>\n",
       "      <th>0</th>\n",
       "      <td>1000025</td>\n",
       "      <td>5</td>\n",
       "      <td>1</td>\n",
       "      <td>1</td>\n",
       "      <td>1</td>\n",
       "      <td>2</td>\n",
       "      <td>1.0</td>\n",
       "      <td>3</td>\n",
       "      <td>1</td>\n",
       "      <td>1</td>\n",
       "      <td>2</td>\n",
       "    </tr>\n",
       "    <tr>\n",
       "      <th>1</th>\n",
       "      <td>1002945</td>\n",
       "      <td>5</td>\n",
       "      <td>4</td>\n",
       "      <td>4</td>\n",
       "      <td>5</td>\n",
       "      <td>7</td>\n",
       "      <td>10.0</td>\n",
       "      <td>3</td>\n",
       "      <td>2</td>\n",
       "      <td>1</td>\n",
       "      <td>2</td>\n",
       "    </tr>\n",
       "    <tr>\n",
       "      <th>2</th>\n",
       "      <td>1015425</td>\n",
       "      <td>3</td>\n",
       "      <td>1</td>\n",
       "      <td>1</td>\n",
       "      <td>1</td>\n",
       "      <td>2</td>\n",
       "      <td>2.0</td>\n",
       "      <td>3</td>\n",
       "      <td>1</td>\n",
       "      <td>1</td>\n",
       "      <td>2</td>\n",
       "    </tr>\n",
       "    <tr>\n",
       "      <th>3</th>\n",
       "      <td>1016277</td>\n",
       "      <td>6</td>\n",
       "      <td>8</td>\n",
       "      <td>8</td>\n",
       "      <td>1</td>\n",
       "      <td>3</td>\n",
       "      <td>4.0</td>\n",
       "      <td>3</td>\n",
       "      <td>7</td>\n",
       "      <td>1</td>\n",
       "      <td>2</td>\n",
       "    </tr>\n",
       "    <tr>\n",
       "      <th>4</th>\n",
       "      <td>1017023</td>\n",
       "      <td>4</td>\n",
       "      <td>1</td>\n",
       "      <td>1</td>\n",
       "      <td>3</td>\n",
       "      <td>2</td>\n",
       "      <td>1.0</td>\n",
       "      <td>3</td>\n",
       "      <td>1</td>\n",
       "      <td>1</td>\n",
       "      <td>2</td>\n",
       "    </tr>\n",
       "  </tbody>\n",
       "</table>\n",
       "</div>"
      ],
      "text/plain": [
       "   Sample code number  Clump Thickness  Uniformity of Cell Size  \\\n",
       "0             1000025                5                        1   \n",
       "1             1002945                5                        4   \n",
       "2             1015425                3                        1   \n",
       "3             1016277                6                        8   \n",
       "4             1017023                4                        1   \n",
       "\n",
       "   Uniformity of Cell Shape  Marginal Adhesion  Single Epithelial Cell Size  \\\n",
       "0                         1                  1                            2   \n",
       "1                         4                  5                            7   \n",
       "2                         1                  1                            2   \n",
       "3                         8                  1                            3   \n",
       "4                         1                  3                            2   \n",
       "\n",
       "   Bare Nuclei  Bland Chromatin  Normal Nucleoli  Mitoses  Class  \n",
       "0          1.0                3                1        1      2  \n",
       "1         10.0                3                2        1      2  \n",
       "2          2.0                3                1        1      2  \n",
       "3          4.0                3                7        1      2  \n",
       "4          1.0                3                1        1      2  "
      ]
     },
     "execution_count": 14,
     "metadata": {},
     "output_type": "execute_result"
    }
   ],
   "source": [
    "dt1.head()"
   ]
  },
  {
   "cell_type": "markdown",
   "metadata": {},
   "source": [
    "# correlation between the data set  \n"
   ]
  },
  {
   "cell_type": "markdown",
   "metadata": {},
   "source": [
    "# if corr is +1 then it is directly correlated and it is useless as we will result in overfitting\n"
   ]
  },
  {
   "cell_type": "markdown",
   "metadata": {},
   "source": [
    "# if corr is -1 then it is inversly correlated and it is useless as we will result in overfitting\n"
   ]
  },
  {
   "cell_type": "markdown",
   "metadata": {},
   "source": [
    "# if corr is 0 then netural corr hence it results in underfitting(input and output)"
   ]
  },
  {
   "cell_type": "markdown",
   "metadata": {},
   "source": [
    "#  -.2 to -.85 then we can use it\n",
    "\n"
   ]
  },
  {
   "cell_type": "markdown",
   "metadata": {},
   "source": [
    "# #0.2 to 0.85 then also we can use"
   ]
  },
  {
   "cell_type": "code",
   "execution_count": 15,
   "metadata": {
    "collapsed": true
   },
   "outputs": [
    {
     "data": {
      "text/plain": [
       "Sample code number            -0.080226\n",
       "Clump Thickness                0.716001\n",
       "Uniformity of Cell Size        0.817904\n",
       "Uniformity of Cell Shape       0.818934\n",
       "Marginal Adhesion              0.696800\n",
       "Single Epithelial Cell Size    0.682785\n",
       "Bare Nuclei                    0.824843\n",
       "Bland Chromatin                0.756616\n",
       "Normal Nucleoli                0.712244\n",
       "Mitoses                        0.423170\n",
       "Class                          1.000000\n",
       "Name: Class, dtype: float64"
      ]
     },
     "execution_count": 15,
     "metadata": {},
     "output_type": "execute_result"
    }
   ],
   "source": [
    "dt.corr()['Class']"
   ]
  },
  {
   "cell_type": "code",
   "execution_count": 16,
   "metadata": {},
   "outputs": [],
   "source": [
    "dt.drop(['Sample code number'],axis=1,inplace=True)"
   ]
  },
  {
   "cell_type": "code",
   "execution_count": 17,
   "metadata": {},
   "outputs": [
    {
     "data": {
      "text/plain": [
       "<pandas.core.groupby.generic.DataFrameGroupBy object at 0x00000248C7C093C8>"
      ]
     },
     "execution_count": 17,
     "metadata": {},
     "output_type": "execute_result"
    }
   ],
   "source": [
    "a=dt.groupby('Class')\n",
    "a"
   ]
  },
  {
   "cell_type": "code",
   "execution_count": 18,
   "metadata": {},
   "outputs": [
    {
     "data": {
      "text/plain": [
       "<matplotlib.axes._subplots.AxesSubplot at 0x248c7c5c088>"
      ]
     },
     "execution_count": 18,
     "metadata": {},
     "output_type": "execute_result"
    },
    {
     "data": {
      "image/png": "[encoded data removed]",
      "text/plain": [
       "<Figure size 432x288 with 2 Axes>"
      ]
     },
     "metadata": {
      "needs_background": "light"
     },
     "output_type": "display_data"
    }
   ],
   "source": [
    "sb.heatmap(dt.corr())"
   ]
  },
  {
   "cell_type": "markdown",
   "metadata": {},
   "source": [
    "# Prediction of  which type of breastcancer it is using sklearn "
   ]
  },
  {
   "cell_type": "markdown",
   "metadata": {},
   "source": [
    "# Dividing the data set into feasible and label data set."
   ]
  },
  {
   "cell_type": "code",
   "execution_count": 19,
   "metadata": {},
   "outputs": [],
   "source": [
    "fs=dt.drop(['Class'],axis=1)\n",
    "label=dt['Class']"
   ]
  },
  {
   "cell_type": "code",
   "execution_count": 20,
   "metadata": {},
   "outputs": [],
   "source": [
    "from sklearn.model_selection import train_test_split\n",
    "from sklearn.neighbors import KNeighborsClassifier\n",
    "#we are going to divide the dataq set into 4 part\n",
    "#x_tr=75% of  fs data\n",
    "#x_ts=25% of fs data\n",
    "#y_ts=75% of label data\n",
    "#y_ts=25% of label data\n",
    "#(it is all being done to test and train the data set)"
   ]
  },
  {
   "cell_type": "code",
   "execution_count": 21,
   "metadata": {},
   "outputs": [],
   "source": [
    "x_tr,x_ts,y_tr,y_ts=train_test_split(fs,label,test_size=0.25)"
   ]
  },
  {
   "cell_type": "code",
   "execution_count": 22,
   "metadata": {
    "collapsed": true
   },
   "outputs": [
    {
     "data": {
      "text/html": [
       "<div>\n",
       "<style scoped>\n",
       "    .dataframe tbody tr th:only-of-type {\n",
       "        vertical-align: middle;\n",
       "    }\n",
       "\n",
       "    .dataframe tbody tr th {\n",
       "        vertical-align: top;\n",
       "    }\n",
       "\n",
       "    .dataframe thead th {\n",
       "        text-align: right;\n",
       "    }\n",
       "</style>\n",
       "<table border=\"1\" class=\"dataframe\">\n",
       "  <thead>\n",
       "    <tr style=\"text-align: right;\">\n",
       "      <th></th>\n",
       "      <th>Clump Thickness</th>\n",
       "      <th>Uniformity of Cell Size</th>\n",
       "      <th>Uniformity of Cell Shape</th>\n",
       "      <th>Marginal Adhesion</th>\n",
       "      <th>Single Epithelial Cell Size</th>\n",
       "      <th>Bare Nuclei</th>\n",
       "      <th>Bland Chromatin</th>\n",
       "      <th>Normal Nucleoli</th>\n",
       "      <th>Mitoses</th>\n",
       "    </tr>\n",
       "  </thead>\n",
       "  <tbody>\n",
       "    <tr>\n",
       "      <th>471</th>\n",
       "      <td>6</td>\n",
       "      <td>1</td>\n",
       "      <td>1</td>\n",
       "      <td>3</td>\n",
       "      <td>2</td>\n",
       "      <td>1.0</td>\n",
       "      <td>1</td>\n",
       "      <td>1</td>\n",
       "      <td>1</td>\n",
       "    </tr>\n",
       "    <tr>\n",
       "      <th>566</th>\n",
       "      <td>3</td>\n",
       "      <td>1</td>\n",
       "      <td>2</td>\n",
       "      <td>1</td>\n",
       "      <td>2</td>\n",
       "      <td>1.0</td>\n",
       "      <td>3</td>\n",
       "      <td>1</td>\n",
       "      <td>1</td>\n",
       "    </tr>\n",
       "    <tr>\n",
       "      <th>561</th>\n",
       "      <td>5</td>\n",
       "      <td>1</td>\n",
       "      <td>1</td>\n",
       "      <td>1</td>\n",
       "      <td>2</td>\n",
       "      <td>1.0</td>\n",
       "      <td>3</td>\n",
       "      <td>1</td>\n",
       "      <td>1</td>\n",
       "    </tr>\n",
       "    <tr>\n",
       "      <th>393</th>\n",
       "      <td>1</td>\n",
       "      <td>1</td>\n",
       "      <td>1</td>\n",
       "      <td>1</td>\n",
       "      <td>1</td>\n",
       "      <td>1.0</td>\n",
       "      <td>1</td>\n",
       "      <td>1</td>\n",
       "      <td>1</td>\n",
       "    </tr>\n",
       "    <tr>\n",
       "      <th>276</th>\n",
       "      <td>3</td>\n",
       "      <td>1</td>\n",
       "      <td>1</td>\n",
       "      <td>1</td>\n",
       "      <td>2</td>\n",
       "      <td>1.0</td>\n",
       "      <td>2</td>\n",
       "      <td>1</td>\n",
       "      <td>1</td>\n",
       "    </tr>\n",
       "    <tr>\n",
       "      <th>...</th>\n",
       "      <td>...</td>\n",
       "      <td>...</td>\n",
       "      <td>...</td>\n",
       "      <td>...</td>\n",
       "      <td>...</td>\n",
       "      <td>...</td>\n",
       "      <td>...</td>\n",
       "      <td>...</td>\n",
       "      <td>...</td>\n",
       "    </tr>\n",
       "    <tr>\n",
       "      <th>400</th>\n",
       "      <td>3</td>\n",
       "      <td>10</td>\n",
       "      <td>8</td>\n",
       "      <td>7</td>\n",
       "      <td>6</td>\n",
       "      <td>9.0</td>\n",
       "      <td>9</td>\n",
       "      <td>3</td>\n",
       "      <td>8</td>\n",
       "    </tr>\n",
       "    <tr>\n",
       "      <th>79</th>\n",
       "      <td>2</td>\n",
       "      <td>1</td>\n",
       "      <td>1</td>\n",
       "      <td>1</td>\n",
       "      <td>3</td>\n",
       "      <td>1.0</td>\n",
       "      <td>2</td>\n",
       "      <td>1</td>\n",
       "      <td>1</td>\n",
       "    </tr>\n",
       "    <tr>\n",
       "      <th>88</th>\n",
       "      <td>4</td>\n",
       "      <td>1</td>\n",
       "      <td>1</td>\n",
       "      <td>1</td>\n",
       "      <td>2</td>\n",
       "      <td>1.0</td>\n",
       "      <td>3</td>\n",
       "      <td>1</td>\n",
       "      <td>1</td>\n",
       "    </tr>\n",
       "    <tr>\n",
       "      <th>245</th>\n",
       "      <td>5</td>\n",
       "      <td>1</td>\n",
       "      <td>1</td>\n",
       "      <td>2</td>\n",
       "      <td>2</td>\n",
       "      <td>2.0</td>\n",
       "      <td>3</td>\n",
       "      <td>1</td>\n",
       "      <td>1</td>\n",
       "    </tr>\n",
       "    <tr>\n",
       "      <th>201</th>\n",
       "      <td>10</td>\n",
       "      <td>8</td>\n",
       "      <td>8</td>\n",
       "      <td>4</td>\n",
       "      <td>10</td>\n",
       "      <td>10.0</td>\n",
       "      <td>8</td>\n",
       "      <td>1</td>\n",
       "      <td>1</td>\n",
       "    </tr>\n",
       "  </tbody>\n",
       "</table>\n",
       "<p>524 rows × 9 columns</p>\n",
       "</div>"
      ],
      "text/plain": [
       "     Clump Thickness  Uniformity of Cell Size  Uniformity of Cell Shape  \\\n",
       "471                6                        1                         1   \n",
       "566                3                        1                         2   \n",
       "561                5                        1                         1   \n",
       "393                1                        1                         1   \n",
       "276                3                        1                         1   \n",
       "..               ...                      ...                       ...   \n",
       "400                3                       10                         8   \n",
       "79                 2                        1                         1   \n",
       "88                 4                        1                         1   \n",
       "245                5                        1                         1   \n",
       "201               10                        8                         8   \n",
       "\n",
       "     Marginal Adhesion  Single Epithelial Cell Size  Bare Nuclei  \\\n",
       "471                  3                            2          1.0   \n",
       "566                  1                            2          1.0   \n",
       "561                  1                            2          1.0   \n",
       "393                  1                            1          1.0   \n",
       "276                  1                            2          1.0   \n",
       "..                 ...                          ...          ...   \n",
       "400                  7                            6          9.0   \n",
       "79                   1                            3          1.0   \n",
       "88                   1                            2          1.0   \n",
       "245                  2                            2          2.0   \n",
       "201                  4                           10         10.0   \n",
       "\n",
       "     Bland Chromatin  Normal Nucleoli  Mitoses  \n",
       "471                1                1        1  \n",
       "566                3                1        1  \n",
       "561                3                1        1  \n",
       "393                1                1        1  \n",
       "276                2                1        1  \n",
       "..               ...              ...      ...  \n",
       "400                9                3        8  \n",
       "79                 2                1        1  \n",
       "88                 3                1        1  \n",
       "245                3                1        1  \n",
       "201                8                1        1  \n",
       "\n",
       "[524 rows x 9 columns]"
      ]
     },
     "execution_count": 22,
     "metadata": {},
     "output_type": "execute_result"
    }
   ],
   "source": [
    "x_tr"
   ]
  },
  {
   "cell_type": "code",
   "execution_count": 23,
   "metadata": {},
   "outputs": [
    {
     "data": {
      "text/plain": [
       "KNeighborsClassifier(algorithm='auto', leaf_size=30, metric='minkowski',\n",
       "                     metric_params=None, n_jobs=None, n_neighbors=5, p=2,\n",
       "                     weights='uniform')"
      ]
     },
     "execution_count": 23,
     "metadata": {},
     "output_type": "execute_result"
    }
   ],
   "source": [
    "algo=KNeighborsClassifier()\n",
    "algo"
   ]
  },
  {
   "cell_type": "code",
   "execution_count": 24,
   "metadata": {},
   "outputs": [
    {
     "data": {
      "text/plain": [
       "KNeighborsClassifier(algorithm='auto', leaf_size=30, metric='minkowski',\n",
       "                     metric_params=None, n_jobs=None, n_neighbors=5, p=2,\n",
       "                     weights='uniform')"
      ]
     },
     "execution_count": 24,
     "metadata": {},
     "output_type": "execute_result"
    }
   ],
   "source": [
    "algo.fit(x_tr,y_tr)"
   ]
  },
  {
   "cell_type": "markdown",
   "metadata": {},
   "source": [
    "#  Total score using sklearn"
   ]
  },
  {
   "cell_type": "code",
   "execution_count": 25,
   "metadata": {},
   "outputs": [
    {
     "data": {
      "text/plain": [
       "0.9542857142857143"
      ]
     },
     "execution_count": 25,
     "metadata": {},
     "output_type": "execute_result"
    }
   ],
   "source": [
    "algo.score(x_ts,y_ts)"
   ]
  },
  {
   "cell_type": "markdown",
   "metadata": {},
   "source": [
    "# we are going to construct the algo of KNN without use of sklearn\n",
    "# and create a class for the whole."
   ]
  },
  {
   "cell_type": "code",
   "execution_count": 26,
   "metadata": {},
   "outputs": [],
   "source": [
    "dt1=dt.copy()"
   ]
  },
  {
   "cell_type": "code",
   "execution_count": 27,
   "metadata": {
    "collapsed": true
   },
   "outputs": [
    {
     "data": {
      "text/html": [
       "<div>\n",
       "<style scoped>\n",
       "    .dataframe tbody tr th:only-of-type {\n",
       "        vertical-align: middle;\n",
       "    }\n",
       "\n",
       "    .dataframe tbody tr th {\n",
       "        vertical-align: top;\n",
       "    }\n",
       "\n",
       "    .dataframe thead th {\n",
       "        text-align: right;\n",
       "    }\n",
       "</style>\n",
       "<table border=\"1\" class=\"dataframe\">\n",
       "  <thead>\n",
       "    <tr style=\"text-align: right;\">\n",
       "      <th></th>\n",
       "      <th>Clump Thickness</th>\n",
       "      <th>Uniformity of Cell Size</th>\n",
       "      <th>Uniformity of Cell Shape</th>\n",
       "      <th>Marginal Adhesion</th>\n",
       "      <th>Single Epithelial Cell Size</th>\n",
       "      <th>Bare Nuclei</th>\n",
       "      <th>Bland Chromatin</th>\n",
       "      <th>Normal Nucleoli</th>\n",
       "      <th>Mitoses</th>\n",
       "      <th>Class</th>\n",
       "    </tr>\n",
       "  </thead>\n",
       "  <tbody>\n",
       "    <tr>\n",
       "      <th>0</th>\n",
       "      <td>5</td>\n",
       "      <td>1</td>\n",
       "      <td>1</td>\n",
       "      <td>1</td>\n",
       "      <td>2</td>\n",
       "      <td>1.0</td>\n",
       "      <td>3</td>\n",
       "      <td>1</td>\n",
       "      <td>1</td>\n",
       "      <td>2</td>\n",
       "    </tr>\n",
       "    <tr>\n",
       "      <th>1</th>\n",
       "      <td>5</td>\n",
       "      <td>4</td>\n",
       "      <td>4</td>\n",
       "      <td>5</td>\n",
       "      <td>7</td>\n",
       "      <td>10.0</td>\n",
       "      <td>3</td>\n",
       "      <td>2</td>\n",
       "      <td>1</td>\n",
       "      <td>2</td>\n",
       "    </tr>\n",
       "    <tr>\n",
       "      <th>2</th>\n",
       "      <td>3</td>\n",
       "      <td>1</td>\n",
       "      <td>1</td>\n",
       "      <td>1</td>\n",
       "      <td>2</td>\n",
       "      <td>2.0</td>\n",
       "      <td>3</td>\n",
       "      <td>1</td>\n",
       "      <td>1</td>\n",
       "      <td>2</td>\n",
       "    </tr>\n",
       "    <tr>\n",
       "      <th>3</th>\n",
       "      <td>6</td>\n",
       "      <td>8</td>\n",
       "      <td>8</td>\n",
       "      <td>1</td>\n",
       "      <td>3</td>\n",
       "      <td>4.0</td>\n",
       "      <td>3</td>\n",
       "      <td>7</td>\n",
       "      <td>1</td>\n",
       "      <td>2</td>\n",
       "    </tr>\n",
       "    <tr>\n",
       "      <th>4</th>\n",
       "      <td>4</td>\n",
       "      <td>1</td>\n",
       "      <td>1</td>\n",
       "      <td>3</td>\n",
       "      <td>2</td>\n",
       "      <td>1.0</td>\n",
       "      <td>3</td>\n",
       "      <td>1</td>\n",
       "      <td>1</td>\n",
       "      <td>2</td>\n",
       "    </tr>\n",
       "  </tbody>\n",
       "</table>\n",
       "</div>"
      ],
      "text/plain": [
       "   Clump Thickness  Uniformity of Cell Size  Uniformity of Cell Shape  \\\n",
       "0                5                        1                         1   \n",
       "1                5                        4                         4   \n",
       "2                3                        1                         1   \n",
       "3                6                        8                         8   \n",
       "4                4                        1                         1   \n",
       "\n",
       "   Marginal Adhesion  Single Epithelial Cell Size  Bare Nuclei  \\\n",
       "0                  1                            2          1.0   \n",
       "1                  5                            7         10.0   \n",
       "2                  1                            2          2.0   \n",
       "3                  1                            3          4.0   \n",
       "4                  3                            2          1.0   \n",
       "\n",
       "   Bland Chromatin  Normal Nucleoli  Mitoses  Class  \n",
       "0                3                1        1      2  \n",
       "1                3                2        1      2  \n",
       "2                3                1        1      2  \n",
       "3                3                7        1      2  \n",
       "4                3                1        1      2  "
      ]
     },
     "execution_count": 27,
     "metadata": {},
     "output_type": "execute_result"
    }
   ],
   "source": [
    "dt1.head()"
   ]
  },
  {
   "cell_type": "code",
   "execution_count": 28,
   "metadata": {},
   "outputs": [],
   "source": [
    "fs=dt1.drop(['Class'],axis=1)\n",
    "label=dt1['Class']"
   ]
  },
  {
   "cell_type": "markdown",
   "metadata": {},
   "source": [
    "# Train and Test Method "
   ]
  },
  {
   "cell_type": "code",
   "execution_count": 29,
   "metadata": {},
   "outputs": [],
   "source": [
    "import random\n",
    "def train_test_split(*arg,test_size):\n",
    "    a=set([i.shape[0] for i in arg])\n",
    "    assert(len(a)==1),'shape did not match'+str(a)\n",
    "    ind=list(arg[0].index)\n",
    "    random.shuffle(ind)\n",
    "    test_index=ind[:round(len(ind)*test_size)]\n",
    "    data=[]\n",
    "    for i in arg:\n",
    "        data.append(i.drop(test_index))#it willdrop the test index elemnt from data and\n",
    "        #return train data\n",
    "        data.append(i.iloc[test_index])#it will select test data via index\n",
    "    return data"
   ]
  },
  {
   "cell_type": "code",
   "execution_count": 30,
   "metadata": {},
   "outputs": [
    {
     "data": {
      "text/plain": [
       "((524, 9), (175, 9))"
      ]
     },
     "execution_count": 30,
     "metadata": {},
     "output_type": "execute_result"
    }
   ],
   "source": [
    "x_tr,x_ts,y_tr,y_ts=train_test_split(fs,label,test_size=0.25)\n",
    "x_tr.shape,x_ts.shape"
   ]
  },
  {
   "cell_type": "markdown",
   "metadata": {},
   "source": [
    "#  Fit Method"
   ]
  },
  {
   "cell_type": "code",
   "execution_count": 31,
   "metadata": {
    "collapsed": true
   },
   "outputs": [
    {
     "data": {
      "text/plain": [
       "{2: [array([5., 1., 1., 1., 2., 1., 3., 1., 1.]),\n",
       "  array([3., 1., 1., 1., 2., 2., 3., 1., 1.]),\n",
       "  array([6., 8., 8., 1., 3., 4., 3., 7., 1.]),\n",
       "  array([4., 1., 1., 3., 2., 1., 3., 1., 1.]),\n",
       "  array([ 1.,  1.,  1.,  1.,  2., 10.,  3.,  1.,  1.]),\n",
       "  array([2., 1., 1., 1., 2., 1., 1., 1., 5.]),\n",
       "  array([4., 2., 1., 1., 2., 1., 2., 1., 1.]),\n",
       "  array([1., 1., 1., 1., 1., 1., 3., 1., 1.]),\n",
       "  array([2., 1., 1., 1., 2., 1., 2., 1., 1.]),\n",
       "  array([1., 1., 1., 1., 2., 3., 3., 1., 1.]),\n",
       "  array([4., 1., 1., 1., 2., 1., 2., 1., 1.]),\n",
       "  array([4., 1., 1., 1., 2., 1., 3., 1., 1.]),\n",
       "  array([6., 1., 1., 1., 2., 1., 3., 1., 1.]),\n",
       "  array([3., 2., 1., 1., 1., 1., 2., 1., 1.]),\n",
       "  array([5., 1., 1., 1., 2., 1., 2., 1., 1.]),\n",
       "  array([2., 1., 1., 1., 2., 1., 2., 1., 1.]),\n",
       "  array([1., 1., 3., 1., 2., 1., 1., 1., 1.]),\n",
       "  array([3., 1., 1., 1., 1., 1., 2., 1., 1.]),\n",
       "  array([2., 1., 1., 2., 2., 1., 3., 1., 1.]),\n",
       "  array([3., 1., 2., 1., 2., 1., 2., 1., 1.]),\n",
       "  array([2., 1., 1., 1., 2., 1., 2., 1., 1.]),\n",
       "  array([6., 2., 1., 1., 1., 1., 7., 1., 1.]),\n",
       "  array([6.        , 6.        , 6.        , 9.        , 6.        ,\n",
       "         1.34684685, 7.        , 8.        , 1.        ]),\n",
       "  array([1., 1., 1., 1., 2., 1., 2., 1., 2.]),\n",
       "  array([1., 1., 1., 1., 2., 1., 2., 1., 1.]),\n",
       "  array([4., 1., 1., 3., 2., 1., 3., 1., 1.]),\n",
       "  array([1., 1., 1., 1., 2., 1., 2., 1., 1.]),\n",
       "  array([4., 1., 1., 1., 2., 1., 3., 1., 1.]),\n",
       "  array([5., 1., 3., 1., 2., 1., 2., 1., 1.]),\n",
       "  array([5., 3., 1., 2., 2., 1., 2., 1., 1.]),\n",
       "  array([2., 1., 1., 1., 3., 1., 2., 1., 1.]),\n",
       "  array([2., 2., 2., 1., 1., 1., 7., 1., 1.]),\n",
       "  array([4., 1., 1., 2., 2., 1., 2., 1., 1.]),\n",
       "  array([3., 1., 1., 1., 2., 2., 7., 1., 1.]),\n",
       "  array([4., 1., 1., 1., 2., 1., 3., 1., 1.]),\n",
       "  array([1., 1., 1., 1., 2., 1., 3., 1., 1.]),\n",
       "  array([3., 1., 1., 2., 2., 1., 1., 1., 1.]),\n",
       "  array([4., 1., 1., 1., 2., 1., 3., 1., 1.]),\n",
       "  array([1., 1., 1., 1., 2., 1., 2., 1., 1.]),\n",
       "  array([2., 1., 1., 1., 2., 1., 3., 1., 1.]),\n",
       "  array([1., 1., 1., 1., 2., 1., 3., 1., 1.]),\n",
       "  array([2., 1., 1., 2., 2., 1., 1., 1., 1.]),\n",
       "  array([5., 1., 1., 1., 2., 1., 3., 1., 1.]),\n",
       "  array([4., 1., 2., 1., 2., 1., 3., 1., 1.]),\n",
       "  array([1., 3., 1., 2., 2., 2., 5., 3., 2.]),\n",
       "  array([3., 3., 2., 1., 2., 3., 3., 1., 1.]),\n",
       "  array([1., 1., 1., 1., 2., 5., 1., 1., 1.]),\n",
       "  array([8., 3., 3., 1., 2., 2., 3., 2., 1.]),\n",
       "  array([1., 1., 1., 1., 4., 3., 1., 1., 1.]),\n",
       "  array([3., 2., 1., 1., 2., 2., 3., 1., 1.]),\n",
       "  array([1., 1., 1., 1., 2., 1., 2., 1., 1.]),\n",
       "  array([ 1.,  1.,  1.,  1., 10.,  1.,  1.,  1.,  1.]),\n",
       "  array([5., 1., 3., 1., 2., 1., 2., 1., 1.]),\n",
       "  array([2., 1., 1., 1., 2., 1., 3., 1., 1.]),\n",
       "  array([3., 1., 1., 1., 2., 1., 2., 2., 1.]),\n",
       "  array([3., 1., 1., 1., 3., 1., 2., 1., 1.]),\n",
       "  array([5., 1., 1., 1., 2., 2., 3., 3., 1.]),\n",
       "  array([4., 1., 1., 1., 2., 1., 2., 1., 1.]),\n",
       "  array([3., 1., 1., 1., 2., 1., 1., 1., 1.]),\n",
       "  array([4., 1., 2., 1., 2., 1., 2., 1., 1.]),\n",
       "  array([1.        , 1.        , 1.        , 1.        , 1.        ,\n",
       "         1.34684685, 2.        , 1.        , 1.        ]),\n",
       "  array([3., 1., 1., 1., 2., 1., 1., 1., 1.]),\n",
       "  array([2., 1., 1., 1., 2., 1., 1., 1., 1.]),\n",
       "  array([1., 1., 1., 1., 2., 5., 1., 1., 1.]),\n",
       "  array([2., 1., 1., 1., 2., 1., 2., 1., 1.]),\n",
       "  array([1.        , 1.        , 3.        , 1.        , 2.        ,\n",
       "         1.34684685, 2.        , 1.        , 1.        ]),\n",
       "  array([1., 1., 1., 1., 3., 2., 2., 1., 1.]),\n",
       "  array([1., 1., 1., 1., 1., 1., 3., 1., 1.]),\n",
       "  array([4., 1., 1., 1., 2., 3., 1., 1., 1.]),\n",
       "  array([1., 2., 2., 1., 2., 1., 2., 1., 1.]),\n",
       "  array([2., 1., 1., 1., 2., 1., 3., 1., 1.]),\n",
       "  array([1.        , 1.        , 2.        , 1.        , 3.        ,\n",
       "         1.34684685, 1.        , 1.        , 1.        ]),\n",
       "  array([4., 1., 1., 1., 2., 1., 3., 2., 1.]),\n",
       "  array([5.        , 1.        , 1.        , 1.        , 2.        ,\n",
       "         1.34684685, 3.        , 1.        , 1.        ]),\n",
       "  array([1., 1., 1., 1., 2., 1., 3., 1., 1.]),\n",
       "  array([1., 1., 1., 1., 2., 1., 2., 1., 1.]),\n",
       "  array([2., 1., 1., 1., 2., 1., 3., 1., 1.]),\n",
       "  array([4., 1., 1., 1., 2., 1., 3., 1., 1.]),\n",
       "  array([1., 1., 1., 1., 1., 1., 3., 1., 1.]),\n",
       "  array([1., 2., 3., 1., 2., 1., 3., 1., 1.]),\n",
       "  array([5., 1., 1., 1., 2., 1., 2., 1., 1.]),\n",
       "  array([1., 1., 1., 1., 2., 1., 3., 1., 1.]),\n",
       "  array([3., 1., 1., 1., 2., 1., 3., 1., 1.]),\n",
       "  array([4., 1., 1., 1., 2., 1., 3., 1., 1.]),\n",
       "  array([8., 4., 4., 5., 4., 7., 7., 8., 2.]),\n",
       "  array([1., 1., 1., 1., 2., 1., 1., 1., 1.]),\n",
       "  array([3., 1., 1., 1., 2., 1., 2., 1., 1.]),\n",
       "  array([1., 1., 1., 1., 2., 1., 3., 1., 1.]),\n",
       "  array([1., 1., 1., 1., 2., 1., 3., 1., 1.]),\n",
       "  array([5., 1., 1., 1., 1., 1., 3., 1., 1.]),\n",
       "  array([1., 1., 1., 1., 2., 1., 3., 1., 1.]),\n",
       "  array([1., 1., 1., 1., 2., 1., 2., 1., 1.]),\n",
       "  array([6., 1., 3., 1., 2., 1., 3., 1., 1.]),\n",
       "  array([1., 1., 1., 2., 2., 1., 3., 1., 1.]),\n",
       "  array([1., 1., 1., 1., 2., 1., 2., 1., 1.]),\n",
       "  array([1., 1., 1., 1., 1., 1., 3., 1., 1.]),\n",
       "  array([8., 4., 6., 3., 3., 1., 4., 3., 1.]),\n",
       "  array([3., 3., 2., 1., 3., 1., 3., 6., 1.]),\n",
       "  array([3.        , 1.        , 4.        , 1.        , 2.        ,\n",
       "         1.34684685, 3.        , 1.        , 1.        ]),\n",
       "  array([5., 1., 3., 3., 2., 2., 2., 3., 1.]),\n",
       "  array([3., 1., 1., 3., 1., 1., 3., 1., 1.]),\n",
       "  array([2., 1., 1., 1., 2., 1., 3., 1., 1.]),\n",
       "  array([1., 1., 1., 1., 2., 1., 3., 1., 1.]),\n",
       "  array([5., 1., 1., 2., 2., 2., 3., 1., 1.]),\n",
       "  array([3.        , 1.        , 1.        , 1.        , 2.        ,\n",
       "         1.34684685, 3.        , 1.        , 1.        ]),\n",
       "  array([ 6.,  3.,  3.,  5.,  3., 10.,  3.,  5.,  3.]),\n",
       "  array([3., 1., 1., 1., 2., 1., 1., 1., 1.]),\n",
       "  array([3., 1., 1., 1., 2., 1., 2., 1., 1.]),\n",
       "  array([3., 1., 1., 1., 2., 1., 3., 1., 1.]),\n",
       "  array([5., 7., 7., 1., 5., 8., 3., 4., 1.]),\n",
       "  array([1., 1., 1., 1., 2., 1., 3., 1., 1.]),\n",
       "  array([3., 1., 1., 1., 2., 1., 3., 2., 1.]),\n",
       "  array([3.        , 1.        , 3.        , 1.        , 2.        ,\n",
       "         1.34684685, 2.        , 1.        , 1.        ]),\n",
       "  array([3., 1., 1., 1., 2., 1., 2., 1., 1.]),\n",
       "  array([1., 1., 1., 1., 2., 1., 2., 1., 1.]),\n",
       "  array([1., 1., 1., 1., 2., 1., 3., 1., 1.]),\n",
       "  array([3., 1., 1., 1., 2., 1., 3., 1., 1.]),\n",
       "  array([2., 1., 1., 2., 2., 1., 3., 1., 1.]),\n",
       "  array([3., 1., 1., 1., 3., 1., 2., 1., 1.]),\n",
       "  array([1., 1., 1., 1., 2., 1., 1., 1., 1.]),\n",
       "  array([1., 1., 1., 1., 2., 1., 3., 1., 1.]),\n",
       "  array([1.        , 1.        , 1.        , 1.        , 2.        ,\n",
       "         1.34684685, 2.        , 1.        , 1.        ]),\n",
       "  array([5., 3., 4., 3., 4., 5., 4., 7., 1.]),\n",
       "  array([5.        , 4.        , 3.        , 1.        , 2.        ,\n",
       "         1.34684685, 2.        , 3.        , 1.        ]),\n",
       "  array([8., 2., 1., 1., 5., 1., 1., 1., 1.]),\n",
       "  array([1., 1., 1., 1., 2., 1., 3., 1., 1.]),\n",
       "  array([1., 1., 1., 1., 2., 1., 3., 1., 1.]),\n",
       "  array([3., 1., 1., 1., 2., 5., 5., 1., 1.]),\n",
       "  array([1., 1., 1., 1., 2., 1., 1., 1., 1.]),\n",
       "  array([1., 1., 1., 1., 2., 1., 1., 1., 1.]),\n",
       "  array([1., 1., 1., 1., 1., 1., 2., 1., 1.]),\n",
       "  array([1., 1., 1., 1., 5., 1., 3., 1., 1.]),\n",
       "  array([4., 4., 4., 4., 6., 5., 7., 3., 1.]),\n",
       "  array([3.        , 1.        , 1.        , 1.        , 2.        ,\n",
       "         1.34684685, 3.        , 1.        , 1.        ]),\n",
       "  array([3., 1., 1., 1., 2., 1., 3., 1., 1.]),\n",
       "  array([1., 1., 1., 1., 2., 1., 3., 1., 1.]),\n",
       "  array([3., 2., 2., 1., 2., 1., 2., 3., 1.]),\n",
       "  array([5., 2., 2., 2., 2., 1., 2., 2., 1.]),\n",
       "  array([1., 1., 1., 1., 2., 1., 1., 1., 1.]),\n",
       "  array([1., 1., 1., 1., 2., 1., 3., 1., 1.]),\n",
       "  array([1., 1., 1., 1., 2., 1., 1., 1., 1.]),\n",
       "  array([5., 2., 2., 2., 3., 1., 1., 3., 1.]),\n",
       "  array([1., 1., 1., 1., 1., 1., 1., 3., 1.]),\n",
       "  array([2., 1., 1., 1., 2., 1., 3., 1., 1.]),\n",
       "  array([1., 1., 1., 1., 2., 1., 2., 1., 1.]),\n",
       "  array([4., 1., 1., 1., 3., 1., 2., 2., 1.]),\n",
       "  array([3., 2., 2., 1., 4., 3., 2., 1., 1.]),\n",
       "  array([2., 1., 1., 1., 2., 1., 3., 1., 1.]),\n",
       "  array([1., 1., 3., 1., 1., 1., 2., 1., 1.]),\n",
       "  array([4., 3., 2., 1., 3., 1., 2., 1., 1.]),\n",
       "  array([1., 1., 3., 1., 2., 1., 1., 1., 1.]),\n",
       "  array([4., 1., 2., 1., 2., 1., 2., 1., 1.]),\n",
       "  array([5., 1., 1., 2., 2., 1., 2., 1., 1.]),\n",
       "  array([3., 1., 2., 1., 2., 1., 2., 1., 1.]),\n",
       "  array([1., 1., 1., 1., 2., 1., 1., 1., 1.]),\n",
       "  array([1., 1., 1., 1., 2., 1., 2., 1., 1.]),\n",
       "  array([3., 1., 1., 4., 3., 1., 2., 2., 1.]),\n",
       "  array([1., 1., 1., 1., 2., 1., 1., 1., 1.]),\n",
       "  array([2., 1., 1., 1., 2., 1., 1., 1., 1.]),\n",
       "  array([2., 1., 1., 1., 2., 1., 1., 1., 1.]),\n",
       "  array([3., 3., 2., 2., 3., 1., 1., 2., 3.]),\n",
       "  array([5., 3., 3., 2., 3., 1., 3., 1., 1.]),\n",
       "  array([2., 1., 1., 1., 2., 1., 2., 2., 1.]),\n",
       "  array([5., 1., 1., 1., 3., 2., 2., 2., 1.]),\n",
       "  array([1., 1., 1., 2., 2., 1., 2., 1., 1.]),\n",
       "  array([3., 1., 1., 1., 2., 1., 2., 1., 1.]),\n",
       "  array([3., 2., 1., 1., 2., 1., 2., 2., 1.]),\n",
       "  array([1., 2., 3., 1., 2., 1., 1., 1., 1.]),\n",
       "  array([3., 1., 1., 1., 2., 1., 1., 1., 1.]),\n",
       "  array([3., 1., 1., 1., 2., 4., 1., 1., 1.]),\n",
       "  array([1., 1., 1., 1., 2., 1., 2., 1., 1.]),\n",
       "  array([4., 2., 2., 1., 2., 1., 2., 1., 1.]),\n",
       "  array([1., 1., 1., 1., 2., 1., 2., 1., 1.]),\n",
       "  array([3., 1., 2., 1., 2., 1., 2., 1., 1.]),\n",
       "  array([1., 1., 1., 1., 2., 1., 2., 1., 1.]),\n",
       "  array([5., 1., 2., 1., 2., 1., 3., 1., 1.]),\n",
       "  array([3., 3., 2., 6., 3., 3., 3., 5., 1.]),\n",
       "  array([1., 1., 1., 1., 2., 1., 2., 1., 1.]),\n",
       "  array([5., 2., 2., 2., 2., 2., 3., 2., 2.]),\n",
       "  array([2., 3., 1., 1., 5., 1., 1., 1., 1.]),\n",
       "  array([4., 3., 3., 1., 2., 1., 3., 3., 1.]),\n",
       "  array([5., 3., 6., 1., 2., 1., 1., 1., 1.]),\n",
       "  array([1., 3., 1., 1., 2., 1., 2., 2., 1.]),\n",
       "  array([5., 1., 1., 3., 4., 1., 3., 2., 1.]),\n",
       "  array([5., 1., 1., 1., 2., 1., 2., 2., 1.]),\n",
       "  array([3., 2., 2., 3., 2., 1., 1., 1., 1.]),\n",
       "  array([6., 9., 7., 5., 5., 8., 4., 2., 1.]),\n",
       "  array([4., 1., 1., 1., 2., 1., 1., 1., 1.]),\n",
       "  array([4., 1., 3., 3., 2., 1., 1., 1., 1.]),\n",
       "  array([5., 1., 1., 1., 2., 1., 1., 1., 1.]),\n",
       "  array([1., 1., 1., 3., 2., 3., 1., 1., 1.]),\n",
       "  array([1., 1., 1., 1., 2., 2., 1., 1., 1.]),\n",
       "  array([5., 1., 1., 6., 3., 1., 2., 1., 1.]),\n",
       "  array([2., 1., 1., 1., 2., 1., 1., 1., 1.]),\n",
       "  array([1., 1., 1., 1., 2., 1., 1., 1., 1.]),\n",
       "  array([5., 1., 1., 1., 2., 1., 1., 1., 1.]),\n",
       "  array([1., 1., 1., 1., 1., 1., 1., 1., 1.]),\n",
       "  array([4., 1., 1., 3., 1., 1., 2., 1., 1.]),\n",
       "  array([5., 1., 1., 1., 2., 1., 1., 1., 1.]),\n",
       "  array([3., 1., 1., 3., 2., 1., 1., 1., 1.]),\n",
       "  array([2., 3., 1., 1., 3., 1., 1., 1., 1.]),\n",
       "  array([5., 1., 3., 1., 2., 1., 1., 1., 1.]),\n",
       "  array([5., 1., 1., 3., 2., 1., 1., 1., 1.]),\n",
       "  array([3., 1., 1., 1., 2., 5., 1., 1., 1.]),\n",
       "  array([6., 1., 1., 3., 2., 1., 1., 1., 1.]),\n",
       "  array([4., 1., 1., 1., 2., 1., 1., 2., 1.]),\n",
       "  array([4., 1., 1., 1., 2., 1., 1., 1., 1.]),\n",
       "  array([1., 1., 2., 1., 2., 1., 2., 1., 1.]),\n",
       "  array([3., 1., 1., 1., 1., 1., 2., 1., 1.]),\n",
       "  array([6., 1., 1., 3., 2., 1., 1., 1., 1.]),\n",
       "  array([4., 1., 1., 1., 2., 1., 1., 1., 1.]),\n",
       "  array([3., 1., 1., 1., 2., 1., 1., 1., 1.]),\n",
       "  array([4., 1., 2., 1., 2., 1., 1., 1., 1.]),\n",
       "  array([4., 1., 1., 1., 2., 1., 1., 1., 1.]),\n",
       "  array([5., 2., 1., 1., 2., 1., 1., 1., 1.]),\n",
       "  array([5., 1., 1., 1., 1., 1., 1., 1., 1.]),\n",
       "  array([5., 1., 2., 1., 2., 1., 1., 1., 1.]),\n",
       "  array([3., 1., 1., 1., 1., 1., 2., 1., 1.]),\n",
       "  array([1., 1., 1., 1., 2., 1., 1., 1., 1.]),\n",
       "  array([ 5.,  1.,  2., 10.,  4.,  5.,  2.,  1.,  1.]),\n",
       "  array([3., 1., 1., 1., 1., 1., 2., 1., 1.]),\n",
       "  array([1., 1., 1., 1., 1., 1., 1., 1., 1.]),\n",
       "  array([4., 1., 1., 1., 2., 1., 2., 1., 1.]),\n",
       "  array([6., 1., 1., 1., 2., 1., 3., 1., 1.]),\n",
       "  array([4., 1., 1., 1., 2., 1., 2., 1., 1.]),\n",
       "  array([1., 1., 1., 1., 2., 1., 1., 1., 1.]),\n",
       "  array([3., 3., 1., 1., 2., 1., 1., 1., 1.]),\n",
       "  array([1., 1., 1., 1., 2., 4., 1., 1., 1.]),\n",
       "  array([5., 1., 1., 1., 2., 1., 1., 1., 1.]),\n",
       "  array([2., 1., 1., 1., 2., 1., 1., 1., 1.]),\n",
       "  array([1., 1., 1., 1., 2., 1., 1., 1., 1.]),\n",
       "  array([5., 1., 1., 1., 2., 1., 2., 1., 1.]),\n",
       "  array([5., 1., 1., 1., 2., 1., 1., 1., 1.]),\n",
       "  array([1., 1., 1., 1., 1., 1., 1., 1., 1.]),\n",
       "  array([1., 1., 1., 1., 1., 1., 2., 1., 1.]),\n",
       "  array([3., 1., 2., 2., 2., 1., 1., 1., 1.]),\n",
       "  array([1., 1., 1., 1., 3., 1., 1., 1., 1.]),\n",
       "  array([4., 1., 1., 1., 3., 1., 1., 1., 1.]),\n",
       "  array([3., 1., 1., 1., 2., 1., 2., 1., 1.]),\n",
       "  array([4., 1., 1., 1., 2., 1., 1., 1., 1.]),\n",
       "  array([4., 1., 1., 1., 2., 1., 3., 1., 1.]),\n",
       "  array([6., 1., 3., 2., 2., 1., 1., 1., 1.]),\n",
       "  array([4., 1., 1., 1., 1., 1., 2., 1., 1.]),\n",
       "  array([4., 2., 2., 1., 2., 1., 2., 1., 1.]),\n",
       "  array([1., 1., 1., 1., 1., 1., 3., 1., 1.]),\n",
       "  array([3., 1., 1., 1., 2., 1., 2., 1., 1.]),\n",
       "  array([2., 1., 1., 1., 2., 1., 2., 1., 1.]),\n",
       "  array([1., 1., 3., 2., 2., 1., 3., 1., 1.]),\n",
       "  array([5., 1., 1., 1., 2., 1., 3., 1., 1.]),\n",
       "  array([5., 1., 2., 1., 2., 1., 3., 1., 1.]),\n",
       "  array([4., 1., 1., 1., 2., 1., 2., 1., 1.]),\n",
       "  array([6., 1., 1., 1., 2., 1., 2., 1., 1.]),\n",
       "  array([5., 1., 1., 1., 2., 2., 2., 1., 1.]),\n",
       "  array([3., 1., 1., 1., 2., 1., 1., 1., 1.]),\n",
       "  array([5., 3., 1., 1., 2., 1., 1., 1., 1.]),\n",
       "  array([5., 1., 1., 1., 2., 1., 2., 1., 1.]),\n",
       "  array([2., 1., 1., 1., 1., 1., 1., 1., 1.]),\n",
       "  array([3., 1., 1., 1., 1., 1., 1., 1., 1.]),\n",
       "  array([3., 1., 1., 1., 2., 1., 2., 1., 1.]),\n",
       "  array([3., 2., 2., 2., 2., 1., 4., 2., 1.]),\n",
       "  array([4., 4., 2., 1., 2., 5., 2., 1., 2.]),\n",
       "  array([3., 1., 1., 1., 2., 1., 1., 1., 1.]),\n",
       "  array([5., 2., 2., 2., 1., 1., 2., 1., 1.]),\n",
       "  array([5., 1., 1., 3., 2., 1., 1., 1., 1.]),\n",
       "  array([2., 1., 1., 1., 2., 1., 2., 1., 1.]),\n",
       "  array([5., 1., 1., 1., 2., 1., 3., 1., 1.]),\n",
       "  array([5., 1., 1., 1., 2., 1., 3., 1., 1.]),\n",
       "  array([1., 1., 1., 1., 2., 1., 3., 1., 1.]),\n",
       "  array([3., 1., 1., 1., 2., 1., 2., 1., 1.]),\n",
       "  array([4., 1., 1., 1., 2., 1., 3., 2., 1.]),\n",
       "  array([3., 1., 2., 1., 2., 1., 3., 1., 1.]),\n",
       "  array([4., 1., 1., 1., 2., 3., 2., 1., 1.]),\n",
       "  array([3., 1., 1., 1., 2., 1., 2., 1., 1.]),\n",
       "  array([1., 1., 1., 1., 2., 1., 2., 1., 1.]),\n",
       "  array([5., 1., 2., 1., 2., 1., 3., 1., 1.]),\n",
       "  array([5., 1., 1., 1., 2., 1., 2., 1., 1.]),\n",
       "  array([1., 1., 1., 1., 2., 1., 2., 1., 1.]),\n",
       "  array([1., 1., 1., 1., 2., 1., 2., 1., 1.]),\n",
       "  array([5., 1., 2., 1., 2., 1., 2., 1., 1.]),\n",
       "  array([1., 1., 1., 1., 2., 1., 1., 1., 1.]),\n",
       "  array([5., 1., 1., 1., 2., 1., 2., 2., 1.]),\n",
       "  array([5., 1., 1., 1., 2., 1., 1., 1., 1.]),\n",
       "  array([5., 1., 2., 1., 2., 1., 1., 1., 1.]),\n",
       "  array([5., 1., 1., 1., 2., 1., 2., 1., 1.]),\n",
       "  array([4., 1., 2., 1., 2., 1., 2., 1., 1.]),\n",
       "  array([5., 1., 3., 1., 2., 1., 3., 1., 1.]),\n",
       "  array([5., 2., 4., 1., 1., 1., 1., 1., 1.]),\n",
       "  array([1., 1., 1., 1., 1., 1., 2., 1., 1.]),\n",
       "  array([4., 1., 1., 1., 2., 1., 2., 1., 1.]),\n",
       "  array([4., 1., 1., 2., 2., 1., 1., 1., 1.]),\n",
       "  array([1., 1., 1., 1., 2., 1., 1., 1., 1.]),\n",
       "  array([5., 1., 1., 1., 2., 1., 1., 1., 1.]),\n",
       "  array([2., 3., 1., 1., 2., 1., 2., 1., 1.]),\n",
       "  array([4., 1., 3., 1., 2., 1., 2., 1., 1.]),\n",
       "  array([3., 1., 1., 1., 2., 1., 2., 1., 1.]),\n",
       "  array([1.        , 1.        , 1.        , 1.        , 1.        ,\n",
       "         1.34684685, 1.        , 1.        , 1.        ]),\n",
       "  array([4., 1., 1., 1., 2., 1., 2., 1., 1.]),\n",
       "  array([5., 1., 1., 1., 2., 1., 2., 1., 1.]),\n",
       "  array([3., 1., 1., 1., 2., 1., 2., 1., 1.]),\n",
       "  array([6., 3., 3., 3., 3., 2., 6., 1., 1.]),\n",
       "  array([7., 1., 2., 3., 2., 1., 2., 1., 1.]),\n",
       "  array([5., 1., 1., 2., 1., 1., 2., 1., 1.]),\n",
       "  array([3., 1., 3., 1., 3., 4., 1., 1., 1.]),\n",
       "  array([2., 1., 1., 1., 2., 5., 1., 1., 1.]),\n",
       "  array([4., 1., 1., 1., 2., 1., 1., 1., 1.]),\n",
       "  array([4., 2., 4., 3., 2., 2., 2., 1., 1.]),\n",
       "  array([4., 1., 1., 1., 2., 1., 1., 1., 1.]),\n",
       "  array([4., 1., 1., 3., 2., 1., 1., 1., 1.]),\n",
       "  array([3., 1., 1., 1., 2., 1., 2., 1., 1.]),\n",
       "  array([3., 1., 1., 1., 2., 1., 2., 1., 1.]),\n",
       "  array([1., 1., 1., 1., 2., 1., 1., 1., 1.]),\n",
       "  array([2., 1., 1., 1., 2., 1., 1., 1., 1.]),\n",
       "  array([3., 1., 1., 1., 2., 1., 2., 1., 1.]),\n",
       "  array([1., 2., 2., 1., 2., 1., 1., 1., 1.]),\n",
       "  array([1., 1., 1., 3., 2., 1., 1., 1., 1.]),\n",
       "  array([3., 1., 1., 2., 3., 4., 1., 1., 1.]),\n",
       "  array([1., 2., 1., 3., 2., 1., 2., 1., 1.]),\n",
       "  array([5., 1., 1., 1., 2., 1., 2., 2., 1.]),\n",
       "  array([4., 1., 1., 1., 2., 1., 2., 1., 1.]),\n",
       "  array([3., 1., 1., 1., 2., 1., 3., 1., 1.]),\n",
       "  array([3., 1., 1., 1., 2., 1., 2., 1., 1.]),\n",
       "  array([1., 1., 1., 1., 2., 1., 1., 1., 1.]),\n",
       "  array([1., 1., 1., 1., 2., 1., 2., 1., 1.]),\n",
       "  array([1., 1., 3., 1., 2., 1., 2., 1., 1.]),\n",
       "  array([1., 1., 3., 1., 2., 1., 2., 1., 1.]),\n",
       "  array([3., 1., 1., 3., 2., 1., 2., 1., 1.]),\n",
       "  array([1., 1., 1., 1., 2., 1., 1., 1., 1.]),\n",
       "  array([5., 2., 2., 2., 2., 1., 1., 1., 2.]),\n",
       "  array([3., 1., 1., 1., 2., 1., 3., 1., 1.]),\n",
       "  array([5., 3., 2., 1., 3., 1., 1., 1., 1.]),\n",
       "  array([1., 1., 1., 1., 2., 1., 2., 1., 1.]),\n",
       "  array([4., 1., 4., 1., 2., 1., 1., 1., 1.]),\n",
       "  array([1., 1., 2., 1., 2., 1., 2., 1., 1.]),\n",
       "  array([5., 1., 1., 1., 2., 1., 1., 1., 1.]),\n",
       "  array([1., 1., 1., 1., 2., 1., 1., 1., 1.]),\n",
       "  array([5., 1., 1., 1., 2., 1., 3., 2., 1.]),\n",
       "  array([1., 1., 1., 1., 2., 1., 1., 1., 1.]),\n",
       "  array([1., 1., 1., 1., 2., 1., 1., 1., 1.]),\n",
       "  array([1., 1., 1., 1., 2., 1., 1., 1., 1.]),\n",
       "  array([1., 1., 1., 1., 2., 1., 1., 1., 1.]),\n",
       "  array([3., 1., 1., 1., 2., 1., 2., 3., 1.]),\n",
       "  array([4., 1., 1., 1., 2., 1., 1., 1., 1.]),\n",
       "  array([1., 1., 1., 1., 2., 1., 1., 1., 8.]),\n",
       "  array([1., 1., 1., 3., 2., 1., 1., 1., 1.]),\n",
       "  array([3., 1., 1., 1., 2., 1., 1., 1., 1.]),\n",
       "  array([3., 1., 1., 1., 2., 1., 2., 1., 2.]),\n",
       "  array([3., 1., 1., 1., 3., 2., 1., 1., 1.]),\n",
       "  array([2., 1., 1., 1., 2., 1., 1., 1., 1.])],\n",
       " 4: [array([5., 3., 3., 3., 2., 3., 4., 4., 1.]),\n",
       "  array([ 8.,  7.,  5., 10.,  7.,  9.,  5.,  5.,  4.]),\n",
       "  array([7., 4., 6., 4., 6., 1., 4., 3., 1.]),\n",
       "  array([10.,  7.,  7.,  6.,  4., 10.,  4.,  1.,  2.]),\n",
       "  array([ 7.,  3.,  2., 10.,  5., 10.,  5.,  4.,  4.]),\n",
       "  array([8.        , 4.        , 5.        , 1.        , 2.        ,\n",
       "         7.62761506, 7.        , 3.        , 1.        ]),\n",
       "  array([5., 2., 3., 4., 2., 7., 3., 6., 1.]),\n",
       "  array([ 5.,  4.,  4.,  9.,  2., 10.,  5.,  6.,  1.]),\n",
       "  array([10.,  4.,  3.,  1.,  3.,  3.,  6.,  5.,  2.]),\n",
       "  array([ 6., 10., 10.,  2.,  8., 10.,  7.,  3.,  3.]),\n",
       "  array([ 5.,  6.,  5.,  6., 10.,  1.,  3.,  1.,  1.]),\n",
       "  array([3., 7., 7., 4., 4., 9., 4., 8., 1.]),\n",
       "  array([7., 8., 7., 2., 4., 8., 3., 8., 2.]),\n",
       "  array([9., 5., 8., 1., 2., 3., 2., 1., 5.]),\n",
       "  array([5., 3., 3., 4., 2., 4., 3., 4., 1.]),\n",
       "  array([10.,  3.,  6.,  2.,  3.,  5.,  4., 10.,  2.]),\n",
       "  array([ 5.,  5.,  5.,  8., 10.,  8.,  7.,  3.,  7.]),\n",
       "  array([10.,  5.,  5.,  6.,  8.,  8.,  7.,  1.,  1.]),\n",
       "  array([10.,  6.,  6.,  3.,  4.,  5.,  3.,  6.,  1.]),\n",
       "  array([ 8., 10., 10.,  1.,  3.,  6.,  3.,  9.,  1.]),\n",
       "  array([8., 2., 4., 1., 5., 1., 5., 4., 4.]),\n",
       "  array([ 5.,  2.,  3.,  1.,  6., 10.,  5.,  1.,  1.]),\n",
       "  array([ 5.,  3.,  5.,  5.,  3.,  3.,  4., 10.,  1.]),\n",
       "  array([ 9., 10., 10.,  1., 10.,  8.,  3.,  3.,  1.]),\n",
       "  array([6., 3., 4., 1., 5., 2., 3., 9., 1.]),\n",
       "  array([10.,  4.,  2.,  1.,  3.,  2.,  4.,  3., 10.]),\n",
       "  array([ 6., 10.,  2.,  8., 10.,  2.,  7.,  8., 10.]),\n",
       "  array([10.,  6.,  4.,  1.,  3.,  4.,  3.,  2.,  3.]),\n",
       "  array([3., 3., 6., 4., 5., 8., 4., 4., 1.]),\n",
       "  array([ 3.,  6.,  6.,  6.,  5., 10.,  6.,  8.,  3.]),\n",
       "  array([ 9.,  6.,  9.,  2., 10.,  6.,  2.,  9., 10.]),\n",
       "  array([ 7.,  5.,  6., 10.,  5., 10.,  7.,  9.,  4.]),\n",
       "  array([10.,  3.,  5.,  1., 10.,  5.,  3., 10.,  2.]),\n",
       "  array([2., 3., 4., 4., 2., 5., 2., 5., 1.]),\n",
       "  array([8., 2., 3., 1., 6., 3., 7., 1., 1.]),\n",
       "  array([10., 10., 10., 10., 10.,  1.,  8.,  8.,  8.]),\n",
       "  array([7., 3., 4., 4., 3., 3., 3., 2., 7.]),\n",
       "  array([10., 10., 10.,  8.,  2., 10.,  4.,  1.,  1.]),\n",
       "  array([6., 5., 4., 4., 3., 9., 7., 8., 3.]),\n",
       "  array([8., 6., 4., 3., 5., 9., 3., 1., 1.]),\n",
       "  array([10.,  3.,  3., 10.,  2., 10.,  7.,  3.,  3.]),\n",
       "  array([10., 10., 10.,  3., 10.,  8.,  8.,  1.,  1.]),\n",
       "  array([10., 10., 10.,  2., 10., 10.,  5.,  3.,  3.]),\n",
       "  array([ 5.,  3.,  5.,  1.,  8., 10.,  5.,  3.,  1.]),\n",
       "  array([ 5.,  4.,  6.,  7.,  9.,  7.,  8., 10.,  1.]),\n",
       "  array([ 7.,  5.,  3.,  7.,  4., 10.,  7.,  5.,  5.]),\n",
       "  array([ 8.,  3.,  5.,  4.,  5., 10.,  1.,  6.,  2.]),\n",
       "  array([9., 5., 5., 4., 4., 5., 4., 3., 3.]),\n",
       "  array([ 8.,  8.,  7.,  4., 10., 10.,  7.,  8.,  7.]),\n",
       "  array([10., 10.,  8.,  6.,  4.,  5.,  8., 10.,  1.]),\n",
       "  array([ 9.,  9., 10.,  3.,  6., 10.,  7., 10.,  6.]),\n",
       "  array([10.,  7.,  7.,  4.,  5., 10.,  5.,  7.,  2.]),\n",
       "  array([ 5.,  6.,  7.,  8.,  8., 10.,  3., 10.,  3.]),\n",
       "  array([10.,  8., 10., 10.,  6.,  1.,  3.,  1., 10.]),\n",
       "  array([ 6., 10., 10., 10.,  8., 10., 10., 10.,  7.]),\n",
       "  array([ 8.,  6.,  5.,  4.,  3., 10.,  6.,  1.,  1.]),\n",
       "  array([ 5.,  8.,  7.,  7., 10., 10.,  5.,  7.,  1.]),\n",
       "  array([ 5., 10., 10.,  3.,  8.,  1.,  5., 10.,  3.]),\n",
       "  array([ 5.,  3.,  3.,  3.,  6., 10.,  3.,  1.,  1.]),\n",
       "  array([ 1.,  5.,  8.,  6.,  5.,  8.,  7., 10.,  1.]),\n",
       "  array([10.,  5.,  6., 10.,  6., 10.,  7.,  7., 10.]),\n",
       "  array([ 5.,  8.,  4., 10.,  5.,  8.,  9., 10.,  1.]),\n",
       "  array([10., 10., 10.,  8.,  6.,  8.,  7., 10.,  1.]),\n",
       "  array([ 9.,  7.,  7.,  5.,  5., 10.,  7.,  8.,  3.]),\n",
       "  array([10.,  8.,  8.,  4., 10., 10.,  8.,  1.,  1.]),\n",
       "  array([ 5., 10., 10.,  9.,  6., 10.,  7., 10.,  5.]),\n",
       "  array([10., 10.,  9.,  3.,  7.,  5.,  3.,  5.,  1.]),\n",
       "  array([ 8., 10., 10., 10.,  5., 10.,  8., 10.,  6.]),\n",
       "  array([ 8., 10.,  8.,  8.,  4.,  8.,  7.,  7.,  1.]),\n",
       "  array([10., 10., 10., 10.,  7., 10.,  7., 10.,  4.]),\n",
       "  array([10., 10., 10., 10.,  3., 10., 10.,  6.,  1.]),\n",
       "  array([ 8.,  7.,  8.,  7.,  5.,  5.,  5., 10.,  2.]),\n",
       "  array([ 6., 10.,  7.,  7.,  6.,  4.,  8., 10.,  2.]),\n",
       "  array([10.,  6.,  4.,  3., 10., 10.,  9., 10.,  1.]),\n",
       "  array([4., 1., 1., 3., 1., 5., 2., 1., 1.]),\n",
       "  array([7., 5., 6., 3., 3., 8., 7., 4., 1.]),\n",
       "  array([10.,  5.,  5.,  6.,  3., 10.,  7.,  9.,  2.]),\n",
       "  array([8., 9., 9., 5., 3., 5., 7., 7., 1.]),\n",
       "  array([10., 10., 10.,  3., 10., 10.,  9., 10.,  1.]),\n",
       "  array([7., 4., 7., 4., 3., 7., 7., 6., 1.]),\n",
       "  array([10.,  8.,  8.,  2.,  8., 10.,  4.,  8., 10.]),\n",
       "  array([ 9.,  8.,  8.,  5.,  6.,  2.,  4., 10.,  4.]),\n",
       "  array([ 8., 10., 10.,  8.,  5., 10.,  7.,  8.,  1.]),\n",
       "  array([8., 4., 4., 1., 2., 9., 3., 3., 1.]),\n",
       "  array([10.,  4.,  4., 10.,  2., 10.,  5.,  3.,  3.]),\n",
       "  array([ 6., 10., 10.,  2.,  8., 10.,  7.,  3.,  3.]),\n",
       "  array([ 9., 10., 10.,  1., 10.,  8.,  3.,  3.,  1.]),\n",
       "  array([ 5.,  6.,  6.,  2.,  4., 10.,  3.,  6.,  1.]),\n",
       "  array([ 5., 10., 10.,  6., 10., 10., 10.,  6.,  5.]),\n",
       "  array([ 8.,  8.,  9.,  4.,  5., 10.,  7.,  8.,  1.]),\n",
       "  array([ 7.,  9.,  4., 10., 10.,  3.,  5.,  3.,  3.]),\n",
       "  array([ 3.,  3.,  5.,  2.,  3., 10.,  7.,  1.,  1.]),\n",
       "  array([10.,  8.,  8.,  2.,  3.,  4.,  8.,  7.,  8.]),\n",
       "  array([ 3.,  3.,  5.,  2.,  3., 10.,  7.,  1.,  1.]),\n",
       "  array([7., 2., 4., 1., 3., 4., 3., 3., 1.]),\n",
       "  array([10.,  5.,  7.,  3.,  3.,  7.,  3.,  3.,  8.]),\n",
       "  array([ 1.,  4.,  3., 10.,  4., 10.,  5.,  6.,  1.]),\n",
       "  array([10., 10., 10., 10., 10., 10.,  4., 10., 10.]),\n",
       "  array([ 5.,  6.,  6.,  8.,  6., 10.,  4., 10.,  4.]),\n",
       "  array([ 8.        ,  8.        ,  8.        ,  1.        ,  2.        ,\n",
       "          7.62761506,  6.        , 10.        ,  1.        ]),\n",
       "  array([ 5.,  5.,  7.,  8.,  6., 10.,  7.,  4.,  1.]),\n",
       "  array([ 9.,  1.,  2.,  6.,  4., 10.,  7.,  7.,  2.]),\n",
       "  array([ 8.,  4., 10.,  5.,  4.,  4.,  7., 10.,  1.]),\n",
       "  array([10., 10., 10.,  7.,  9., 10.,  7., 10., 10.]),\n",
       "  array([ 8.,  3.,  4.,  9.,  3., 10.,  3.,  3.,  1.]),\n",
       "  array([10.,  8.,  4.,  4.,  4., 10.,  3., 10.,  4.]),\n",
       "  array([7., 8., 7., 6., 4., 3., 8., 8., 4.]),\n",
       "  array([ 8.,  6.,  4., 10., 10.,  1.,  3.,  5.,  1.]),\n",
       "  array([ 5.,  5.,  5.,  2.,  5., 10.,  4.,  3.,  1.]),\n",
       "  array([6., 8., 7., 8., 6., 8., 8., 9., 1.]),\n",
       "  array([10.,  1.,  1.,  1.,  2., 10.,  5.,  4.,  1.]),\n",
       "  array([ 8., 10.,  3.,  2.,  6.,  4.,  3., 10.,  1.]),\n",
       "  array([10.,  4.,  6.,  4.,  5., 10.,  7.,  1.,  1.]),\n",
       "  array([ 5.,  4.,  6.,  6.,  4., 10.,  4.,  3.,  1.]),\n",
       "  array([ 8.,  6.,  7.,  3.,  3., 10.,  3.,  4.,  2.]),\n",
       "  array([ 6.,  5.,  5.,  8.,  4., 10.,  3.,  4.,  1.]),\n",
       "  array([ 8.,  5.,  5.,  5.,  2., 10.,  4.,  3.,  1.]),\n",
       "  array([10.,  3.,  3.,  1.,  2., 10.,  7.,  6.,  1.]),\n",
       "  array([ 7.,  6.,  4.,  8., 10., 10.,  9.,  5.,  3.]),\n",
       "  array([ 3.,  4.,  4., 10.,  5.,  1.,  3.,  3.,  1.]),\n",
       "  array([ 2.,  7., 10., 10.,  7., 10.,  4.,  9.,  4.]),\n",
       "  array([ 8., 10., 10.,  7., 10., 10.,  7.,  3.,  8.]),\n",
       "  array([ 6., 10., 10., 10., 10., 10.,  8., 10., 10.]),\n",
       "  array([ 3., 10.,  3., 10.,  6., 10.,  5.,  1.,  4.]),\n",
       "  array([ 6., 10., 10., 10.,  8., 10.,  7., 10.,  7.]),\n",
       "  array([ 5.,  8.,  8., 10.,  5., 10.,  8., 10.,  3.]),\n",
       "  array([10.,  6.,  3.,  6.,  4., 10.,  7.,  8.,  4.]),\n",
       "  array([ 7.,  6.,  6.,  3.,  2., 10.,  7.,  1.,  1.]),\n",
       "  array([10.,  8.,  7.,  4.,  3., 10.,  7.,  9.,  1.]),\n",
       "  array([ 3., 10.,  8.,  7.,  6.,  9.,  9.,  3.,  8.]),\n",
       "  array([ 8.,  5.,  6.,  2.,  3., 10.,  6.,  6.,  1.]),\n",
       "  array([ 8.,  7.,  8.,  5., 10., 10.,  7.,  2.,  1.]),\n",
       "  array([10., 10., 10.,  7., 10., 10.,  8.,  2.,  1.]),\n",
       "  array([ 9., 10., 10., 10., 10., 10., 10., 10.,  1.]),\n",
       "  array([ 8.,  7.,  8.,  2.,  4.,  2.,  5., 10.,  1.]),\n",
       "  array([10., 10., 10.,  1.,  6.,  1.,  2.,  8.,  1.]),\n",
       "  array([ 4.,  5.,  5.,  8.,  6., 10., 10.,  7.,  1.]),\n",
       "  array([10.,  2.,  2.,  1.,  2.,  6.,  1.,  1.,  2.]),\n",
       "  array([10.,  6.,  5.,  8.,  5., 10.,  8.,  6.,  1.]),\n",
       "  array([ 8.,  8.,  9.,  6.,  6.,  3., 10., 10.,  1.]),\n",
       "  array([ 4.,  8.,  7., 10.,  4., 10.,  7.,  5.,  1.]),\n",
       "  array([ 9., 10., 10., 10., 10.,  5., 10., 10., 10.]),\n",
       "  array([10., 10., 10., 10.,  6., 10.,  8.,  1.,  5.]),\n",
       "  array([ 3.,  6.,  4., 10.,  3.,  3.,  3.,  4.,  1.]),\n",
       "  array([6., 3., 2., 1., 3., 4., 4., 1., 1.]),\n",
       "  array([ 5.,  8.,  9.,  4.,  3., 10.,  7.,  1.,  1.]),\n",
       "  array([ 8., 10., 10., 10.,  7.,  5.,  4.,  8.,  7.]),\n",
       "  array([ 6.,  6.,  7., 10.,  3., 10.,  8., 10.,  2.]),\n",
       "  array([ 4., 10.,  4.,  7.,  3., 10.,  9., 10.,  1.]),\n",
       "  array([ 4.,  7.,  8.,  3.,  4., 10.,  9.,  1.,  1.]),\n",
       "  array([10.,  4.,  5.,  4.,  3.,  5.,  7.,  3.,  1.]),\n",
       "  array([ 7.,  5.,  6., 10.,  4., 10.,  5.,  3.,  1.]),\n",
       "  array([7., 8., 3., 7., 4., 5., 7., 8., 2.]),\n",
       "  array([ 5.,  7., 10., 10.,  5., 10., 10., 10.,  1.]),\n",
       "  array([10., 10.,  8., 10.,  6.,  5., 10.,  3.,  1.]),\n",
       "  array([ 8., 10.,  4.,  4.,  8., 10.,  8.,  2.,  1.]),\n",
       "  array([10.,  9.,  7.,  3.,  4.,  2.,  7.,  7.,  1.]),\n",
       "  array([ 5.,  7., 10.,  6.,  5., 10.,  7.,  5.,  1.]),\n",
       "  array([ 6., 10.,  5.,  5.,  4., 10.,  6., 10.,  1.]),\n",
       "  array([ 8., 10., 10., 10.,  6., 10., 10., 10.,  1.]),\n",
       "  array([ 4., 10.,  8.,  5.,  4.,  1., 10.,  1.,  1.]),\n",
       "  array([ 2.,  5.,  7.,  6.,  4., 10.,  7.,  6.,  1.]),\n",
       "  array([10.,  3.,  4.,  5.,  3., 10.,  4.,  1.,  1.]),\n",
       "  array([ 5.,  3.,  2.,  8.,  5., 10.,  8.,  1.,  2.]),\n",
       "  array([10.,  5., 10.,  3.,  5.,  8.,  7.,  8.,  3.]),\n",
       "  array([ 5., 10., 10., 10., 10., 10., 10.,  1.,  1.]),\n",
       "  array([10.,  4.,  3., 10.,  3., 10.,  7.,  1.,  2.]),\n",
       "  array([4., 6., 6., 5., 7., 6., 7., 7., 3.]),\n",
       "  array([ 7.,  8.,  8.,  7.,  3., 10.,  7.,  2.,  3.]),\n",
       "  array([ 5., 10., 10.,  8.,  5.,  5.,  7., 10.,  1.]),\n",
       "  array([10., 10., 10., 10.,  5., 10., 10., 10.,  7.]),\n",
       "  array([ 5., 10., 10., 10.,  4., 10.,  5.,  6.,  3.]),\n",
       "  array([ 5., 10., 10.,  5.,  4.,  5.,  4.,  4.,  1.]),\n",
       "  array([ 5., 10., 10.,  3.,  7.,  3.,  8., 10.,  2.]),\n",
       "  array([ 4.,  8.,  6.,  4.,  3.,  4., 10.,  6.,  1.]),\n",
       "  array([ 4.,  8.,  8.,  5.,  4.,  5., 10.,  4.,  1.])]}"
      ]
     },
     "execution_count": 31,
     "metadata": {},
     "output_type": "execute_result"
    }
   ],
   "source": [
    "grp=dict.fromkeys(y_tr)\n",
    "for i in grp:\n",
    "    grp[i]=[]\n",
    "for i in x_tr.index:\n",
    "    grp[y_tr.loc[i]].append(x_tr.loc[i].values)\n",
    "grp"
   ]
  },
  {
   "cell_type": "markdown",
   "metadata": {},
   "source": [
    "# Predict Method"
   ]
  },
  {
   "cell_type": "code",
   "execution_count": 32,
   "metadata": {},
   "outputs": [
    {
     "data": {
      "text/plain": [
       "(2, 2)"
      ]
     },
     "execution_count": 32,
     "metadata": {},
     "output_type": "execute_result"
    }
   ],
   "source": [
    "from scipy.spatial.distance import minkowski\n",
    "def knn(dts,prd,k=3):\n",
    "    dist=[]\n",
    "    for grp in dts:\n",
    "        for p in dts[grp]:\n",
    "            dist.append((minkowski(p,prd),grp))\n",
    "    votes=[i[1] for i in sorted(dist)[:k]]\n",
    "    return max(votes,key=lambda x:votes.count(x))\n",
    "knn(grp,x_ts.iloc[5]),y_ts.iloc[5]"
   ]
  },
  {
   "cell_type": "markdown",
   "metadata": {},
   "source": [
    "# Score"
   ]
  },
  {
   "cell_type": "code",
   "execution_count": 33,
   "metadata": {},
   "outputs": [
    {
     "data": {
      "text/plain": [
       "0.9657142857142857"
      ]
     },
     "execution_count": 33,
     "metadata": {},
     "output_type": "execute_result"
    }
   ],
   "source": [
    "m=list(map(lambda l:knn(grp,l),x_ts.values))\n",
    "sum(m==y_ts)/len(x_ts)"
   ]
  },
  {
   "cell_type": "code",
   "execution_count": 34,
   "metadata": {},
   "outputs": [],
   "source": [
    "class KNN:\n",
    "    def __init__(s,n=5):\n",
    "        s.n=n\n",
    "    def fit(s,x_tr,y_tr):\n",
    "        s.grp=dict.fromkeys(y_tr)\n",
    "        for i in s.grp:\n",
    "            s.grp[i]=[]\n",
    "        for i in x_tr.index:\n",
    "            s.grp[y_tr.loc[i]].append(x_tr.loc[i].values)\n",
    "    def predict(s,prd):\n",
    "        dist=[]\n",
    "        for g in s.grp:\n",
    "            for p in s.grp[g]:\n",
    "                dist.append((minkowski(p,prd),g))\n",
    "        votes=[i[1] for i in sorted(dist)[:s.n]]\n",
    "        return max(votes,key=lambda x:votes.count(x))\n",
    "    def score(s,x_ts,y_ts):\n",
    "        m=list(map(s.predict,x_ts.values))\n",
    "        return sum(m==y_ts)/len(x_ts)"
   ]
  },
  {
   "cell_type": "code",
   "execution_count": 35,
   "metadata": {},
   "outputs": [
    {
     "data": {
      "text/plain": [
       "0.9657142857142857"
      ]
     },
     "execution_count": 35,
     "metadata": {},
     "output_type": "execute_result"
    }
   ],
   "source": [
    "al=KNN()\n",
    "al.fit(x_tr,y_tr)\n",
    "al.score(x_ts,y_ts)"
   ]
  },
  {
   "cell_type": "markdown",
   "metadata": {},
   "source": [
    "# Manual Checking"
   ]
  },
  {
   "cell_type": "code",
   "execution_count": 36,
   "metadata": {},
   "outputs": [
    {
     "data": {
      "text/plain": [
       "2"
      ]
     },
     "execution_count": 36,
     "metadata": {},
     "output_type": "execute_result"
    }
   ],
   "source": [
    "#we have construct a device that can genrate the input so that we can predict output.\n",
    "al.predict([[2,1,1,1,2,1.0,1,1,5]])"
   ]
  },
  {
   "cell_type": "code",
   "execution_count": null,
   "metadata": {},
   "outputs": [],
   "source": []
  }
 ],
 "metadata": {
  "kernelspec": {
   "display_name": "Python 3",
   "language": "python",
   "name": "python3"
  },
  "language_info": {
   "codemirror_mode": {
    "name": "ipython",
    "version": 3
   },
   "file_extension": ".py",
   "mimetype": "text/x-python",
   "name": "python",
   "nbconvert_exporter": "python",
   "pygments_lexer": "ipython3",
   "version": "3.7.6"
  }
 },
 "nbformat": 4,
 "nbformat_minor": 4
}
